{
  "nbformat": 4,
  "nbformat_minor": 0,
  "metadata": {
    "colab": {
      "provenance": [],
      "authorship_tag": "ABX9TyOm5NJALDmQ1t/d9lS/urM+",
      "include_colab_link": true
    },
    "kernelspec": {
      "name": "python3",
      "display_name": "Python 3"
    },
    "language_info": {
      "name": "python"
    }
  },
  "cells": [
    {
      "cell_type": "markdown",
      "metadata": {
        "id": "view-in-github",
        "colab_type": "text"
      },
      "source": [
        "<a href=\"https://colab.research.google.com/github/Mokshitha08/Gen-AI-2025/blob/main/GEN_AI_LAB_04.ipynb\" target=\"_parent\"><img src=\"https://colab.research.google.com/assets/colab-badge.svg\" alt=\"Open In Colab\"/></a>"
      ]
    },
    {
      "cell_type": "markdown",
      "source": [
        " 1. (1 ponto) Design a simple ANN architecture with one input and one output layer (no hidden\n",
        " layer). Assume a linear activation function in the output layer.\n",
        "\n",
        "\n",
        "\n",
        "*   Write Python code for a backpropagation algorithm with gradient descent optimization toupdate weights and bias parameters of the ANN model with training data shown in Table 1.\n",
        "\n",
        "*   Calculate the mean square error with training and testing data shown in Table 2.\n",
        "\n",
        "*   Write Python code that reads the input data [x1, x2, and x3] from the user. Predict the output with deployed ANN model\n",
        "\n",
        "\n",
        "\n",
        "                          \n",
        "                          Tabela 1: Training Data\n",
        "                          x1  x2  x3  y\n",
        "                          0.1 0.2 0.3 0.14\n",
        "                          0.2 0.3 0.4 0.20\n",
        "                          0.3 0.4 0.5 0.26\n",
        "                          0.5 0.6 0.7 0.38\n",
        "                          0.1 0.3 0.5 0.22\n",
        "                          0.2 0.4 0.6 0.28\n",
        "                          0.3 0.5 0.7 0.34\n",
        "                          0.4 0.6 0.8 0.40\n",
        "                          0.5 0.7 0.1 0.22\n",
        "\n",
        "                          Tabela 2: Test Data\n",
        "                          x1  x2   x3   y\n",
        "                          0.6 0.7 0.8 0.44\n",
        "                          0.7 0.8 0.9 0.50\n",
        "\n"
      ],
      "metadata": {
        "id": "kVjYBwcCrB0d"
      }
    },
    {
      "cell_type": "code",
      "execution_count": 2,
      "metadata": {
        "id": "38akQCpWoFrX"
      },
      "outputs": [],
      "source": [
        "import numpy as np\n",
        "\n",
        "train_data = np.array([[0.1, 0.2, 0.3, 0.14],\n",
        "                       [0.2, 0.3, 0.4, 0.20],\n",
        "                       [0.3, 0.4, 0.5, 0.26],\n",
        "                       [0.5, 0.6, 0.7, 0.38],\n",
        "                       [0.1, 0.3, 0.5, 0.22],\n",
        "                       [0.2, 0.4, 0.6, 0.28],\n",
        "                       [0.3, 0.5, 0.7, 0.34],\n",
        "                       [0.4, 0.6, 0.8, 0.40],\n",
        "                       [0.5, 0.7, 0.1, 0.22]])\n",
        "\n",
        "test_data = np.array([[0.6, 0.7, 0.8, 0.44],\n",
        "                      [0.7, 0.8, 0.9, 0.50]])"
      ]
    },
    {
      "cell_type": "code",
      "source": [
        "weights = np.random.rand(3)\n",
        "bias = np.random.rand(1)\n",
        "learning_rate = 0.01\n",
        "iterations = 1000"
      ],
      "metadata": {
        "id": "ZEkyp3GayvY7"
      },
      "execution_count": 3,
      "outputs": []
    },
    {
      "cell_type": "code",
      "source": [
        "for _ in range(iterations):\n",
        "    for row in train_data:\n",
        "        x = row[:3]\n",
        "        y_true = row[3]\n",
        "        y_pred = np.dot(x, weights) + bias\n",
        "        error = y_true - y_pred\n",
        "        weights += learning_rate * error * x\n",
        "        bias += learning_rate * error"
      ],
      "metadata": {
        "id": "bhdGzklTy0S0"
      },
      "execution_count": 4,
      "outputs": []
    },
    {
      "cell_type": "code",
      "source": [
        "def mean_square_error(data):\n",
        "    mse = 0\n",
        "    for row in data:\n",
        "        x = row[:3]\n",
        "        y_true = row[3]\n",
        "        y_pred = np.dot(x, weights) + bias\n",
        "        mse += (y_true - y_pred) ** 2\n",
        "    return mse / len(data)\n",
        "\n",
        "print(\"Training MSE:\", mean_square_error(train_data))\n",
        "print(\"Testing MSE:\", mean_square_error(test_data))"
      ],
      "metadata": {
        "colab": {
          "base_uri": "https://localhost:8080/"
        },
        "id": "dZ5XhMZGy2hR",
        "outputId": "a93c0202-595f-4493-b462-bbf6a04eb9bf"
      },
      "execution_count": 5,
      "outputs": [
        {
          "output_type": "stream",
          "name": "stdout",
          "text": [
            "Training MSE: [0.00021244]\n",
            "Testing MSE: [0.0010761]\n"
          ]
        }
      ]
    },
    {
      "cell_type": "code",
      "source": [
        "x_input = np.array([float(i) for i in input(\"Enter x1, x2, x3: \").split()])\n",
        "y_pred = np.dot(x_input, weights) + bias\n",
        "print(\"Predicted Output:\", y_pred)"
      ],
      "metadata": {
        "colab": {
          "base_uri": "https://localhost:8080/"
        },
        "id": "RvK3zqdmy7WO",
        "outputId": "1db61451-d02e-4a20-c9b2-502245dd164c"
      },
      "execution_count": 9,
      "outputs": [
        {
          "output_type": "stream",
          "name": "stdout",
          "text": [
            "Enter x1, x2, x3: 0.1 0.2 0.3\n",
            "Predicted Output: [0.1465022]\n"
          ]
        }
      ]
    },
    {
      "cell_type": "markdown",
      "source": [
        " 2. (1 ponto) Design a simple ANN architecture with one input and one output layer (no hidden\n",
        " layer). Assume a sigmoid activation function shown in the equation 1 in the output layer.\n",
        "\n",
        "\n",
        "\n",
        "        f(x) = 1\\ 1 +e^-x\n",
        "        \n",
        "\n",
        "\n",
        "\n",
        "\n",
        "*   Write Python code for a backpropagation algorithm with gradient descent\n",
        "optimization to update weights and bias parameters of the ANN model with training data shown in Table 3.\n",
        "\n",
        "\n",
        "                          Tabela 3: Training Data\n",
        "                          x1  x2  x3    y\n",
        "                          0.1 0.2 0.3 0.5349\n",
        "                          0.2 0.3 0.4 0.5498\n",
        "                          0.3 0.4 0.5 0.5646\n",
        "                          0.5 0.6 0.7 0.5939\n",
        "                          0.1 0.3 0.5 0.5548\n",
        "                          0.2 0.4 0.6 0.5695\n",
        "                          0.3 0.5 0.7 0.5842\n",
        "                          0.4 0.6 0.8 0.5987\n",
        "                          0.5 0.7 0.1 0.5548\n",
        "                          \n",
        "                          Tabela 4: Test Data\n",
        "                          x1   x2  x3   y\n",
        "                          0.6 0.7 0.8 0.6083\n",
        "                          0.7 0.8 0.9 0.6225\n",
        "\n",
        "\n",
        "\n",
        "\n",
        "*   Calculate the mean square error with training and testing data shown in Table 4.\n",
        "\n",
        "\n",
        "\n",
        "\n",
        "*   Write Python code that reads the input data [x1, x2, and x3] from the user. Predict the output with deployed ANN model\n",
        "\n",
        "\n",
        "\n",
        "\n"
      ],
      "metadata": {
        "id": "D9TOlvO3sFUL"
      }
    },
    {
      "cell_type": "code",
      "source": [
        "def sigmoid(x):\n",
        "    return 1 / (1 + np.exp(-x))\n",
        "\n",
        "def sigmoid_derivative(x):\n",
        "    return sigmoid(x) * (1 - sigmoid(x))"
      ],
      "metadata": {
        "id": "aHgnG0YJtcAH"
      },
      "execution_count": 10,
      "outputs": []
    },
    {
      "cell_type": "code",
      "source": [
        "train_data_sigmoid = np.array([\n",
        "    [0.1, 0.2, 0.3, 0.5349],\n",
        "    [0.2, 0.3, 0.4, 0.5498],\n",
        "    [0.3, 0.4, 0.5, 0.5646],\n",
        "    [0.5, 0.6, 0.7, 0.5939],\n",
        "    [0.1, 0.3, 0.5, 0.5548],\n",
        "    [0.2, 0.4, 0.6, 0.5695],\n",
        "    [0.3, 0.5, 0.7, 0.5842],\n",
        "    [0.4, 0.6, 0.8, 0.5987],\n",
        "    [0.5, 0.7, 0.1, 0.5548]\n",
        "])\n",
        "\n",
        "test_data_sigmoid = np.array([\n",
        "    [0.6, 0.7, 0.8, 0.6083],\n",
        "    [0.7, 0.8, 0.9, 0.6225]\n",
        "])\n"
      ],
      "metadata": {
        "id": "UgVmCjs8zjQO"
      },
      "execution_count": 11,
      "outputs": []
    },
    {
      "cell_type": "code",
      "source": [
        "weights_sigmoid = np.random.rand(3)\n",
        "bias_sigmoid = np.random.rand(1)"
      ],
      "metadata": {
        "id": "5i1FC4DEzl2d"
      },
      "execution_count": 12,
      "outputs": []
    },
    {
      "cell_type": "code",
      "source": [
        "for _ in range(iterations):\n",
        "    for row in train_data_sigmoid:\n",
        "        x = row[:3]\n",
        "        y_true = row[3]\n",
        "        y_pred = sigmoid(np.dot(x, weights_sigmoid) + bias_sigmoid)\n",
        "        error = y_true - y_pred\n",
        "        weights_sigmoid += learning_rate * error * sigmoid_derivative(y_pred) * x\n",
        "        bias_sigmoid += learning_rate * error * sigmoid_derivative(y_pred)\n",
        "\n",
        "print(\"Training MSE (Sigmoid):\", mean_square_error(train_data_sigmoid))\n",
        "print(\"Testing MSE (Sigmoid):\", mean_square_error(test_data_sigmoid))"
      ],
      "metadata": {
        "colab": {
          "base_uri": "https://localhost:8080/"
        },
        "id": "FhDdtE4Pzooh",
        "outputId": "fe07b76d-aa6e-4aa0-8294-397c182c9929"
      },
      "execution_count": 13,
      "outputs": [
        {
          "output_type": "stream",
          "name": "stdout",
          "text": [
            "Training MSE (Sigmoid): [0.09173855]\n",
            "Testing MSE (Sigmoid): [0.01333662]\n"
          ]
        }
      ]
    },
    {
      "cell_type": "code",
      "source": [
        "x_input_sigmoid = np.array([float(i) for i in input(\"Enter x1, x2, x3: \").split()])\n",
        "y_pred_sigmoid = sigmoid(np.dot(x_input_sigmoid, weights_sigmoid) + bias_sigmoid)\n",
        "print(\"Predicted Output (Sigmoid):\", y_pred_sigmoid)"
      ],
      "metadata": {
        "colab": {
          "base_uri": "https://localhost:8080/"
        },
        "id": "dJ3FS5ldztpB",
        "outputId": "4bdb4f8e-e803-4fb9-b6a4-59080f4b32ff"
      },
      "execution_count": 14,
      "outputs": [
        {
          "output_type": "stream",
          "name": "stdout",
          "text": [
            "Enter x1, x2, x3: 0.1 0.2 0.3\n",
            "Predicted Output (Sigmoid): [0.53139169]\n"
          ]
        }
      ]
    }
  ]
}
