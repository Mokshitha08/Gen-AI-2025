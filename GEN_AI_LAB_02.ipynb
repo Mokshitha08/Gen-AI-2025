{
  "nbformat": 4,
  "nbformat_minor": 0,
  "metadata": {
    "colab": {
      "provenance": [],
      "authorship_tag": "ABX9TyMxmmtefd1nCTqMAAIh7QjT",
      "include_colab_link": true
    },
    "kernelspec": {
      "name": "python3",
      "display_name": "Python 3"
    },
    "language_info": {
      "name": "python"
    }
  },
  "cells": [
    {
      "cell_type": "markdown",
      "metadata": {
        "id": "view-in-github",
        "colab_type": "text"
      },
      "source": [
        "<a href=\"https://colab.research.google.com/github/Mokshitha08/Gen-AI-2025/blob/main/GEN_AI_LAB_02.ipynb\" target=\"_parent\"><img src=\"https://colab.research.google.com/assets/colab-badge.svg\" alt=\"Open In Colab\"/></a>"
      ]
    },
    {
      "cell_type": "markdown",
      "source": [
        "1.(1 ponto) Develop mathematical modeling for the given case study and find solution using Python Courses Pages Files\n",
        "\n",
        "\n",
        "Consider a chocolate manufacturing company that produces types of chocolate i.e. A and B. Both the chocolates require Milk and Choco only.\n",
        "\n",
        "\n",
        "To manufacture each unit of A and B, the following quantities are Modules required:\n",
        "\n",
        " Each unit of A requires 1 unit of Milk and 3 units of Choco\n",
        "\n",
        " Each unit of B requires 1 unit of Milk and 2 units of Choco Inbox Collaborations\n",
        "\n",
        " The company kitchen has a total of 5 units of Milk and 12 units of Choco. On each sale, the company makes a profit of Rs 6 sold and Rs 5 per unit B sold.\n",
        "\n",
        " Now, the company wishes to maximize its profit. How many units of A and B should it produce respectively?"
      ],
      "metadata": {
        "id": "j-_AcLiEh-7f"
      }
    },
    {
      "cell_type": "code",
      "source": [
        "import numpy as np\n",
        "from scipy.optimize import linprog"
      ],
      "metadata": {
        "id": "sEG4YuXYl7IW"
      },
      "execution_count": 2,
      "outputs": []
    },
    {
      "cell_type": "code",
      "execution_count": 3,
      "metadata": {
        "id": "RXPXmyYMhujG"
      },
      "outputs": [],
      "source": [
        "c = [-6, -5]"
      ]
    },
    {
      "cell_type": "code",
      "source": [
        "A = [[1, 1], [3, 2]]\n",
        "b = [5, 12]"
      ],
      "metadata": {
        "id": "Y6C1AP7wmXCw"
      },
      "execution_count": 4,
      "outputs": []
    },
    {
      "cell_type": "code",
      "source": [
        "x_bounds = (0, None)\n",
        "y_bounds = (0, None)"
      ],
      "metadata": {
        "id": "bAhqy2xXmkUO"
      },
      "execution_count": 5,
      "outputs": []
    },
    {
      "cell_type": "code",
      "source": [
        "result = linprog(c, A_ub=A, b_ub=b, bounds=[x_bounds, y_bounds])"
      ],
      "metadata": {
        "id": "mvXAbyaDmqs3"
      },
      "execution_count": 6,
      "outputs": []
    },
    {
      "cell_type": "code",
      "source": [
        "if result.success:\n",
        "    print(\"Optimal solution found:\")\n",
        "    print(\"Number of units of chocolate A:\", round(result.x[0]))\n",
        "    print(\"Number of units of chocolate B:\", round(result.x[1]))\n",
        "    print(\"Maximum profit:\", -round(result.fun))\n",
        "else:\n",
        "    print(\"No optimal solution found.\")"
      ],
      "metadata": {
        "colab": {
          "base_uri": "https://localhost:8080/"
        },
        "id": "jMi09udamroP",
        "outputId": "f9cdd7a2-5c15-42af-b6d3-fd740834e033"
      },
      "execution_count": 12,
      "outputs": [
        {
          "output_type": "stream",
          "name": "stdout",
          "text": [
            "Optimal solution found:\n",
            "Number of units of chocolate A: 2\n",
            "Number of units of chocolate B: 3\n",
            "Maximum profit: 27\n"
          ]
        }
      ]
    },
    {
      "cell_type": "markdown",
      "source": [
        "2.(1 ponto) Develop mathematical modeling for the given case study and find solution using Python\n",
        "\n",
        " A farmer has recently acquired a 110 hectares piece of land. He has decided to grow Wheat and barley on that land. Due to the quality of the sun and the region's excellent climate, the entire production of Wheat and Barley can be sold. He wants to know how to plant each variety in the 110 hectares, given the costs, net profits and labor requirements according to the data shown below:\n",
        "         \n",
        "        \n",
        "         Crop         Cost (Rs/Hec)     Profit (Price/Hec)    Man-days/Hed\n",
        "         Wheat          7000                50                    10\n",
        "         Barley         2000                120                   30\n",
        "                          \n",
        "                          \n",
        "The farmer has a budget of Rs. 7,00,000 and availability of 1,200 man-days during the planning horizon. Find the optimal solution and the optimal value."
      ],
      "metadata": {
        "id": "aXb7byyLi7Sk"
      }
    },
    {
      "cell_type": "code",
      "source": [
        "import numpy as np\n",
        "from scipy.optimize import linprog"
      ],
      "metadata": {
        "id": "1kJaPLhenMR1"
      },
      "execution_count": 14,
      "outputs": []
    },
    {
      "cell_type": "code",
      "source": [
        "c = [-50, -120]"
      ],
      "metadata": {
        "id": "NdDtOicnnXeA"
      },
      "execution_count": 15,
      "outputs": []
    },
    {
      "cell_type": "code",
      "source": [
        "A = [[7000, 2000], [1, 1], [10, 30]]\n",
        "b = [700000, 110, 1200]"
      ],
      "metadata": {
        "id": "zLq2K96AnaVS"
      },
      "execution_count": 16,
      "outputs": []
    },
    {
      "cell_type": "code",
      "source": [
        "x_bounds = (0, None)\n",
        "y_bounds = (0, None)"
      ],
      "metadata": {
        "id": "daixuqTinfii"
      },
      "execution_count": 17,
      "outputs": []
    },
    {
      "cell_type": "code",
      "source": [
        "result = linprog(c, A_ub=A, b_ub=b, bounds=[x_bounds, y_bounds])"
      ],
      "metadata": {
        "id": "wEYPp02znhxD"
      },
      "execution_count": 18,
      "outputs": []
    },
    {
      "cell_type": "code",
      "source": [
        "if result.success:\n",
        "    print(\"Optimal solution found:\")\n",
        "    print(\"Area for Wheat:\", round(result.x[0]))\n",
        "    print(\"Area for Barley:\", round(result.x[1]))\n",
        "    print(\"Maximum profit:\", -round(result.fun))  # Negate the objective function value as linprog minimizes\n",
        "else:\n",
        "    print(\"No optimal solution found.\")\n",
        "result.message"
      ],
      "metadata": {
        "colab": {
          "base_uri": "https://localhost:8080/",
          "height": 104
        },
        "id": "v9ObAdgLnlIE",
        "outputId": "028ccf5a-cd16-4fff-8abb-0c803d1c592c"
      },
      "execution_count": 19,
      "outputs": [
        {
          "output_type": "stream",
          "name": "stdout",
          "text": [
            "Optimal solution found:\n",
            "Area for Wheat: 98\n",
            "Area for Barley: 7\n",
            "Maximum profit: 5779\n"
          ]
        },
        {
          "output_type": "execute_result",
          "data": {
            "text/plain": [
              "'Optimization terminated successfully. (HiGHS Status 7: Optimal)'"
            ],
            "application/vnd.google.colaboratory.intrinsic+json": {
              "type": "string"
            }
          },
          "metadata": {},
          "execution_count": 19
        }
      ]
    }
  ]
}